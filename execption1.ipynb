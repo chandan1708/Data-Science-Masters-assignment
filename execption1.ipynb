{
 "cells": [
  {
   "cell_type": "raw",
   "id": "d4dfe6b1-8c3c-40d3-b143-a3834cf3c299",
   "metadata": {},
   "source": [
    "Q1.what is an exception in python? what is the diffrence between exception and syntax error "
   ]
  },
  {
   "cell_type": "raw",
   "id": "29998663-a5ec-469f-83db-f8073b45a0bc",
   "metadata": {},
   "source": [
    "An exception is an event, which occurs during the execution of a program that disrupts the normal flow of the program's instructions"
   ]
  },
  {
   "cell_type": "raw",
   "id": "4b92a05a-7ea9-4a87-b1c1-170433f6f184",
   "metadata": {},
   "source": [
    "The exception happens only at the time of runtime whereas the syntax error happens in both compile time and run time"
   ]
  },
  {
   "cell_type": "raw",
   "id": "4d2b2b99-596d-4e6e-884c-ef05331d281f",
   "metadata": {},
   "source": [
    "Q2.what happens when the exception is not handled ? explain with an example"
   ]
  },
  {
   "cell_type": "raw",
   "id": "d0f51077-a2b0-4b1f-90c8-213e5f908147",
   "metadata": {},
   "source": [
    "when the execption is not handled the interpreter does not allow to execute further lines of program"
   ]
  },
  {
   "cell_type": "raw",
   "id": "0fa08522-7a81-4dbb-b60b-89bbd7ee1ac9",
   "metadata": {},
   "source": [
    "a=10\n",
    "division=a/0\n",
    "print(\"completion of the code\")"
   ]
  },
  {
   "cell_type": "raw",
   "id": "32afea2b-068b-4993-8f38-7bedf9bf0836",
   "metadata": {},
   "source": [
    "Q3.which python statements are used to catch and handle exceptions?explain with an example"
   ]
  },
  {
   "cell_type": "raw",
   "id": "82c6e55d-5451-485b-8c63-2549cd8dec98",
   "metadata": {},
   "source": [
    "try and except\n",
    "\n",
    "try :- it defines a block of code test if it contains any errors\n",
    "except :- used to catch and handle the exceptions that are encountered in the try clause"
   ]
  },
  {
   "cell_type": "raw",
   "id": "72b91018-90af-40b4-be03-a44b24f6b797",
   "metadata": {},
   "source": [
    "Q4.explain with an example \n",
    "1.try and else\n",
    "2.finally\n",
    "3.raise"
   ]
  },
  {
   "cell_type": "raw",
   "id": "8d6e597c-4701-48ee-afc9-63646aaec90b",
   "metadata": {},
   "source": [
    "1.\n",
    "try: This block will test the excepted error to occur\n",
    "else: If there is no exception then this block will be executed\n",
    "example :-\n",
    "try:\n",
    "    f=open(\"test1.txt\",\"r\")\n",
    "    f.write(\"this is my message\")\n",
    "    \n",
    "except Exception as e :\n",
    "    print(\"there is some issue with my code \",e)\n",
    "else:\n",
    "    f.close()\n",
    "    print(\"this is block will execute itseldt without an execptiom\")"
   ]
  },
  {
   "cell_type": "raw",
   "id": "ecdda00a-aa4b-41ad-a724-54c19717facb",
   "metadata": {},
   "source": [
    "2. finally : finally block always gets executed either exception is generated or not\n",
    "example:-\n",
    "try:\n",
    "    f=open(\"test1.txt\",\"w\")\n",
    "    f.write(\"this is my message\")\n",
    "    \n",
    "except Exception as e :\n",
    "    print(\"there is some issue with my code \",e)\n",
    "else:\n",
    "    f.close()\n",
    "    print(\"this is block will execute itseldt without an execptiom\")\n",
    "finally:\n",
    "    print(\"this will always execute\")"
   ]
  },
  {
   "cell_type": "raw",
   "id": "2679e6b4-80fa-44ef-9558-916ddb980f21",
   "metadata": {},
   "source": [
    "3. raise : The raise keyword raises an error and stops the control flow of the program\n",
    "\n",
    "def validate_marks(marks):\n",
    "    if marks<0:\n",
    "        raise validatemarks(\"do enter the marks above 0\")\n",
    "    elif marks>100:\n",
    "        raise validatemarks(\"do the marks below 100\")\n",
    "    else:\n",
    "        raise validatemarks(\"Entered marks\")"
   ]
  },
  {
   "cell_type": "raw",
   "id": "dc563745-0391-4dfe-97f0-bafa92ffa3ba",
   "metadata": {},
   "source": [
    "Q5. What are custom execption in python? why do we need custom execption? explain with an example."
   ]
  },
  {
   "cell_type": "raw",
   "id": "8eccaa04-ff08-43b9-9575-7bd4ef56f32a",
   "metadata": {},
   "source": [
    "it is used to customize the execption according to the user needs\n",
    "\n",
    "to create our own execption\n",
    "\n",
    "try:\n",
    "    f=open(\"test1.txt\",\"w\")\n",
    "    f.write(\"this is my message\")\n",
    "    \n",
    "except Exception as e :\n",
    "    print(\"there is some issue with my code \",e)"
   ]
  },
  {
   "cell_type": "raw",
   "id": "0d25d7ce-18a0-40d4-9a6d-a8632ccb14e0",
   "metadata": {},
   "source": [
    "Q6.create a custom execption class. use this class to handle an execption"
   ]
  },
  {
   "cell_type": "raw",
   "id": "fac55784-5793-4212-b857-2a09e63295d6",
   "metadata": {},
   "source": [
    "class validatemarks(Exception):\n",
    "    def __init__(self,msg):\n",
    "        self.msg=msg\n",
    "\n",
    "def validate_marks(marks):\n",
    "    if marks<0:\n",
    "        raise validatemarks(\"do enter the marks above 0\")\n",
    "    elif marks>100:\n",
    "        raise validatemarks(\"do the marks below 100\")\n",
    "    else:\n",
    "        raise validatemarks(\"Entered marks\")\n",
    "\n",
    "try:\n",
    "    marks=float(input(\"enter the marks\"))\n",
    "    validate_marks(marks)\n",
    "except validatemarks as e:\n",
    "    print(e)"
   ]
  },
  {
   "cell_type": "code",
   "execution_count": null,
   "id": "a36c1df6-7ffa-4b8e-ad66-f0de07eb2a72",
   "metadata": {},
   "outputs": [],
   "source": []
  }
 ],
 "metadata": {
  "kernelspec": {
   "display_name": "Python 3 (ipykernel)",
   "language": "python",
   "name": "python3"
  },
  "language_info": {
   "codemirror_mode": {
    "name": "ipython",
    "version": 3
   },
   "file_extension": ".py",
   "mimetype": "text/x-python",
   "name": "python",
   "nbconvert_exporter": "python",
   "pygments_lexer": "ipython3",
   "version": "3.10.8"
  }
 },
 "nbformat": 4,
 "nbformat_minor": 5
}
