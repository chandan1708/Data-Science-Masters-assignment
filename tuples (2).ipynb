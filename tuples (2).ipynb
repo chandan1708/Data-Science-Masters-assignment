{
 "cells": [
  {
   "cell_type": "markdown",
   "id": "d6222a7e-4889-4460-9449-5ca208b73553",
   "metadata": {},
   "source": [
    "# Assignment of List,Tuples,Dictionary"
   ]
  },
  {
   "cell_type": "markdown",
   "id": "61c7e23b-475f-4f7b-8969-caf64a669738",
   "metadata": {},
   "source": [
    "1.What are the characteristics of the tuples? Is tuple immutable ?"
   ]
  },
  {
   "cell_type": "markdown",
   "id": "8fee5d98-5f57-406e-8569-74c235e5c7b6",
   "metadata": {},
   "source": [
    "Characteristics of Tuples\n",
    "They are indexed.\n",
    "Tuples are ordered.\n",
    "These are immutable.\n",
    "\n",
    "yes tuple is immutable"
   ]
  },
  {
   "cell_type": "markdown",
   "id": "bdeea4d1-9d05-4614-888f-1ebf2ef83ae9",
   "metadata": {},
   "source": [
    "2.What are the two tuple methods in python?"
   ]
  },
  {
   "cell_type": "markdown",
   "id": "f9abcc54-6cc9-49a0-8653-29ca1b5b5f03",
   "metadata": {},
   "source": [
    "count()\tReturns the number of times a specified value occurs in a tuple\n",
    "Tuple = (0, 1, (2, 3), (2, 3), 1, 3, 2], 'geeks', (0,))\n",
    "# count the appearance of (2, 3)\n",
    "res = Tuple.count((2, 3))\n",
    "print('Count of (2, 3) in Tuple is:', res)\n",
    "\n",
    "\n",
    "index()\tSearches the tuple for a specified value and returns the position of where it was found\n",
    "Tuple = (0, 1, 2, 3, 2, 3, 1, 3, 2)\n",
    "  \n",
    "# getting the index of 3\n",
    "res = Tuple.index(3)\n",
    "print('First occurrence of 3 is', res)\n",
    "\n",
    "\n",
    "In Python, tuples are immutables. Meaning, you cannot change items of a tuple once it is assigned. There are only two tuple methods count() and index() that a tuple object can call."
   ]
  },
  {
   "cell_type": "markdown",
   "id": "11065708-c75a-467c-a360-afd14b5bb277",
   "metadata": {},
   "source": [
    "3.Set is a collection which is unordered and unindexed. No duplicate members. Use curly brackets {} for sets. Dictionary is a collection which is unordered, ."
   ]
  },
  {
   "cell_type": "code",
   "execution_count": 5,
   "id": "acb6e2a9-a530-43af-92d9-f3dd1b57536e",
   "metadata": {},
   "outputs": [
    {
     "name": "stdout",
     "output_type": "stream",
     "text": [
      "{1, 2, 3, 4}\n"
     ]
    }
   ],
   "source": [
    "#Set is a collection which is unordered and unindexed. No duplicate members. Use curly brackets {} for sets.\n",
    "List = [1, 1, 1, 2, 1, 3, 1, 4, 2, 1, 2, 2, 2, 3, 2, 4, 3, 1, 3, 2, 3, 3, 3, 4, 4, 1, 4, 2, 4, 3, 4, 4]\n",
    "sets=set(List)\n",
    "print(sets)"
   ]
  },
  {
   "cell_type": "markdown",
   "id": "697c9bc4-a011-4840-84ba-43d541e74c43",
   "metadata": {},
   "source": [
    "4.Explain the difference between the union() and update() methods for a set.Give an example of each method."
   ]
  },
  {
   "cell_type": "markdown",
   "id": "43347908-daec-441e-8081-6bce46b74c68",
   "metadata": {},
   "source": [
    "The union() method returns a new set that contains all the elements from both sets. It does not modify the original sets.\n",
    "set1 = {1, 2, 3} \n",
    "set2 = {3, 4, 5}\n",
    "set3 = set1.union(set2) \n",
    "print(set3)\n",
    "# Output: {1, 2, 3, 4, 5} print(set1) \n",
    "# Output: {1, 2, 3} print(set2) \n",
    "# Output: {3, 4, 5}\n",
    "\n",
    "On the other hand, the update() method modifies the set it is called on to include all the elements from both sets.\n",
    "set1 = {1, 2, 3}\n",
    "set2 = {3, 4, 5} \n",
    "set1.update(set2) \n",
    "print(set1) # Output: {1, 2, 3, 4, 5}\n",
    "print(set2) # Output: {3, 4, 5}"
   ]
  },
  {
   "cell_type": "markdown",
   "id": "c095ac6a-5283-460e-8016-2343c2489214",
   "metadata": {},
   "source": [
    "5.What is a dictionary? Give an example. Also, state whether a dictionary is ordered or unordered."
   ]
  },
  {
   "cell_type": "markdown",
   "id": "33e3fa0c-3238-4c03-b712-c2e8be219599",
   "metadata": {},
   "source": [
    "dictionaries are mutable data structures that allow you to store key-value pairs. Dictionary can be created using the dict() constructor or curly braces' {}'\n",
    "dict{\"apple\":100,\"orange\":200,\"banana\":30,\"promoganate\":110}\n",
    "\n",
    "\n",
    "Dictionary in Python is an unordered collection of data values, used to store data values like a map, which unlike other Data Types that hold only single value as an element, Dictionary holds key:value pair. Key-value is provided in the dictionary to make it more optimized."
   ]
  },
  {
   "cell_type": "markdown",
   "id": "0668dbeb-2567-4c38-bd86-f48b9b61464b",
   "metadata": {},
   "source": [
    "6. Can we create a nested dictionary? If so, please give an example by creating a simple one-level nested dictionary."
   ]
  },
  {
   "cell_type": "markdown",
   "id": "79bd94ae-14e3-4820-b28a-c3581d36600a",
   "metadata": {},
   "source": [
    "yes nested dictionary \n",
    "nested_dict = {'Name_school': {'Carmel institutes': 'till 10th'},\n",
    "               'fav_Teacher': {'shivani': 'hindi teacher'}}"
   ]
  },
  {
   "cell_type": "code",
   "execution_count": null,
   "id": "0767ebe9-b0c5-4441-9ea3-32a8b3e90277",
   "metadata": {},
   "outputs": [
    {
     "name": "stdout",
     "output_type": "stream",
     "text": [
      "{'a': 97, 'b': 98, 'c': 99, 'd': 100, ' ': 32}\n"
     ]
    }
   ],
   "source": []
  },
  {
   "cell_type": "markdown",
   "id": "f07f242d-d85e-4a2e-a2ae-e8e9392395d0",
   "metadata": {},
   "source": [
    "7.Using setdefault() method, create key named topics in the given dictionary and also add the value of the key as this list ['Python', 'Machine Learning’, 'Deep Learning']\n",
    "dict1 = {'language' : 'Python', 'course': 'Data Science Masters'}"
   ]
  },
  {
   "cell_type": "code",
   "execution_count": 9,
   "id": "330e0697-62c7-4f3b-80fe-1c4c129f44e5",
   "metadata": {},
   "outputs": [
    {
     "name": "stdout",
     "output_type": "stream",
     "text": [
      "{'language': 'Python', 'course': 'Data Science Masters', 'topics': ['Python', 'Machine Learning', 'Deep Learning']}\n"
     ]
    }
   ],
   "source": [
    "dict1 = {'language' : 'Python', 'course': 'Data Science Masters'}\n",
    "dict1.setdefault('topics',[\"Python\", \"Machine Learning\", \"Deep Learning\"])\n",
    "print(dict1)"
   ]
  },
  {
   "cell_type": "markdown",
   "id": "6b5e9874-ebf9-4f82-8e3e-1c2b5895b272",
   "metadata": {},
   "source": [
    "Q8. What are the three view objects in dictionaries? Use the three in-built methods in python to display\n",
    "these three view objects for the given dictionary.\n",
    "dict1 = {'Sport': 'Cricket' , 'Teams': ['India', 'Australia', 'England', 'South Africa', 'Sri Lanka', 'New Zealand']}"
   ]
  },
  {
   "cell_type": "code",
   "execution_count": 14,
   "id": "d4b7966a-cf2b-47f9-a7bc-ec4e14591893",
   "metadata": {},
   "outputs": [
    {
     "name": "stdout",
     "output_type": "stream",
     "text": [
      "dict_keys(['Sport', 'Teams'])\n",
      "dict_values(['Cricket', ['India', 'Australia', 'England', 'South Africa', 'Sri Lanka', 'New Zealand']])\n",
      "dict_items([('Sport', 'Cricket'), ('Teams', ['India', 'Australia', 'England', 'South Africa', 'Sri Lanka', 'New Zealand'])])\n"
     ]
    }
   ],
   "source": [
    "# The three view object in dictionaries keys,values,items\n",
    "dict1 = {'Sport': 'Cricket' , 'Teams': ['India', 'Australia', 'England', 'South Africa', 'Sri Lanka', 'New Zealand']}\n",
    "print(dict1.keys())\n",
    "print(dict1.values())\n",
    "print(dict1.items())"
   ]
  },
  {
   "cell_type": "code",
   "execution_count": null,
   "id": "8fcb8c38-d7be-4a23-952e-f70f29ef619c",
   "metadata": {},
   "outputs": [],
   "source": []
  }
 ],
 "metadata": {
  "kernelspec": {
   "display_name": "Python 3 (ipykernel)",
   "language": "python",
   "name": "python3"
  },
  "language_info": {
   "codemirror_mode": {
    "name": "ipython",
    "version": 3
   },
   "file_extension": ".py",
   "mimetype": "text/x-python",
   "name": "python",
   "nbconvert_exporter": "python",
   "pygments_lexer": "ipython3",
   "version": "3.10.8"
  }
 },
 "nbformat": 4,
 "nbformat_minor": 5
}
